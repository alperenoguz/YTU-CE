{
 "cells": [
  {
   "cell_type": "code",
   "execution_count": 45,
   "metadata": {},
   "outputs": [
    {
     "name": "stdout",
     "output_type": "stream",
     "text": [
      "(12972, 3)\n"
     ]
    },
    {
     "data": {
      "text/html": [
       "<div>\n",
       "<style scoped>\n",
       "    .dataframe tbody tr th:only-of-type {\n",
       "        vertical-align: middle;\n",
       "    }\n",
       "\n",
       "    .dataframe tbody tr th {\n",
       "        vertical-align: top;\n",
       "    }\n",
       "\n",
       "    .dataframe thead th {\n",
       "        text-align: right;\n",
       "    }\n",
       "</style>\n",
       "<table border=\"1\" class=\"dataframe\">\n",
       "  <thead>\n",
       "    <tr style=\"text-align: right;\">\n",
       "      <th></th>\n",
       "      <th>word</th>\n",
       "      <th>occurrence</th>\n",
       "      <th>day</th>\n",
       "    </tr>\n",
       "  </thead>\n",
       "  <tbody>\n",
       "    <tr>\n",
       "      <th>123</th>\n",
       "      <td>adoze</td>\n",
       "      <td>3.499576e-10</td>\n",
       "      <td>NaN</td>\n",
       "    </tr>\n",
       "    <tr>\n",
       "      <th>4183</th>\n",
       "      <td>gales</td>\n",
       "      <td>4.396283e-07</td>\n",
       "      <td>NaN</td>\n",
       "    </tr>\n",
       "    <tr>\n",
       "      <th>3982</th>\n",
       "      <td>fores</td>\n",
       "      <td>6.523431e-08</td>\n",
       "      <td>NaN</td>\n",
       "    </tr>\n",
       "    <tr>\n",
       "      <th>4909</th>\n",
       "      <td>hauns</td>\n",
       "      <td>1.151461e-09</td>\n",
       "      <td>NaN</td>\n",
       "    </tr>\n",
       "    <tr>\n",
       "      <th>1421</th>\n",
       "      <td>brash</td>\n",
       "      <td>4.982697e-07</td>\n",
       "      <td>1417.0</td>\n",
       "    </tr>\n",
       "  </tbody>\n",
       "</table>\n",
       "</div>"
      ],
      "text/plain": [
       "       word    occurrence     day\n",
       "123   adoze  3.499576e-10     NaN\n",
       "4183  gales  4.396283e-07     NaN\n",
       "3982  fores  6.523431e-08     NaN\n",
       "4909  hauns  1.151461e-09     NaN\n",
       "1421  brash  4.982697e-07  1417.0"
      ]
     },
     "execution_count": 45,
     "metadata": {},
     "output_type": "execute_result"
    }
   ],
   "source": [
    "import numpy as np\n",
    "import pandas as pd\n",
    "import matplotlib.pyplot as plt\n",
    "from manim import *\n",
    "df = pd.read_csv(\"wordle.csv\")  #reading 5 letter words dataset \n",
    "print(df.shape)\n",
    "df.sample(5)\n",
    "# Kod kelimelerin sahip olduğu bilgiyi (tüm farklı durumlar için kaç kelime uyduğunun toplamı: entropy) hesaplayıp bu\n",
    "# kelimeler arasında en yüksek bilgiye sahip olan kelimeyi seçmeyle ve her seçimden sonra elde edilen duruma uymayan \n",
    "# kelimelerin çıkarılmasıyla çalışmaktadır."
   ]
  },
  {
   "cell_type": "code",
   "execution_count": 46,
   "metadata": {},
   "outputs": [
    {
     "name": "stdout",
     "output_type": "stream",
     "text": [
      "best word: wares\n",
      "best word: ursid\n"
     ]
    },
    {
     "name": "stderr",
     "output_type": "stream",
     "text": [
      "                                                                              \r"
     ]
    },
    {
     "name": "stdout",
     "output_type": "stream",
     "text": [
      "best word: wilco\n"
     ]
    },
    {
     "name": "stderr",
     "output_type": "stream",
     "text": [
      "                                                                              \r"
     ]
    },
    {
     "name": "stdout",
     "output_type": "stream",
     "text": [
      "best word: repin\n"
     ]
    },
    {
     "name": "stderr",
     "output_type": "stream",
     "text": [
      "                                                                              \r"
     ]
    },
    {
     "name": "stdout",
     "output_type": "stream",
     "text": [
      "best word: labis\n"
     ]
    },
    {
     "name": "stderr",
     "output_type": "stream",
     "text": [
      "                                                                              \r"
     ]
    },
    {
     "name": "stdout",
     "output_type": "stream",
     "text": [
      "best word: goner\n",
      "best word: tutor\n"
     ]
    },
    {
     "name": "stderr",
     "output_type": "stream",
     "text": [
      "                                                                              \r"
     ]
    },
    {
     "name": "stdout",
     "output_type": "stream",
     "text": [
      "best word: kales\n",
      "best word: blend\n"
     ]
    },
    {
     "name": "stderr",
     "output_type": "stream",
     "text": [
      "                                                                               \r"
     ]
    },
    {
     "name": "stdout",
     "output_type": "stream",
     "text": [
      "best word: fauna\n"
     ]
    },
    {
     "name": "stderr",
     "output_type": "stream",
     "text": [
      "                                                                               \r"
     ]
    },
    {
     "name": "stdout",
     "output_type": "stream",
     "text": [
      "best word: labis\n",
      "best word: horal\n"
     ]
    },
    {
     "name": "stderr",
     "output_type": "stream",
     "text": [
      "                                                                               \r"
     ]
    },
    {
     "name": "stdout",
     "output_type": "stream",
     "text": [
      "best word: feres\n"
     ]
    },
    {
     "name": "stderr",
     "output_type": "stream",
     "text": [
      "                                                                               \r"
     ]
    },
    {
     "data": {
      "text/html": [
       "<video src=\"media\\jupyter\\Updaters@2023-06-01@08-15-26.mp4\" controls autoplay loop style=\"max-width: 60%;\"  >\n",
       "      Your browser does not support the <code>video</code> element.\n",
       "    </video>"
      ],
      "text/plain": [
       "<IPython.core.display.Video object>"
      ]
     },
     "metadata": {},
     "output_type": "display_data"
    }
   ],
   "source": [
    "%%manim -qm -v WARNING Updaters\n",
    "#Bu class anlaşılması daha zor olduğu için diğer kodlara bakabilirsiniz.\n",
    "#Animasyonların yapıldığı class\n",
    "class Updaters(Scene):\n",
    "    results=[]\n",
    "    result=[0,0,0,0,0]\n",
    "    best_words=[]\n",
    "    g_secret_words=[]\n",
    "    def importdf(self):\n",
    "        df = pd.read_csv(\"wordle.csv\")  #reading 5 letter words dataset \n",
    "        df.sample(5)\n",
    "        return df\n",
    "    def find_best_word(self,df,dif_pos): #Sonuca göre en iyi kelimeyi bulma\n",
    "            ent_list=[]\n",
    "            for cont_word in df:\n",
    "                match=np.zeros(243)\n",
    "                for word in df:\n",
    "                    used=[]\n",
    "                    if cont_word!=word:\n",
    "                        result=[0,0,0,0,0] #kelime result dizisinde sonucu kaydedilip kontrol etmek istediğimiz sonuçla karşılaştırma yapılıyor\n",
    "                        for i in range(5):\n",
    "                            if cont_word[i]==word[i]:\n",
    "                                result[i]=2\n",
    "                                used.append(i)\n",
    "                            else:\n",
    "                                cont=0\n",
    "                                for j in range(len(cont_word)):\n",
    "                                    if j not in used and cont_word[j] == word[i]:\n",
    "                                        cont=1\n",
    "                                        used.append(j)   \n",
    "                                if cont==1:\n",
    "                                    result[i]=1\n",
    "                        for pos_in in range(len(dif_pos)):\n",
    "                            if dif_pos[pos_in]==result:\n",
    "                                match[pos_in]+=1 #match oluşabilecek tüm farklı sonuçların kaç defa gerçekleştiğinin tutulduğu yer\n",
    "                ent=0\n",
    "                for i in range(len(match)):\n",
    "                    if match[i]!=0:\n",
    "                        size=400\n",
    "                        ent+=-(match[i]/size)*np.log2(match[i]/size) #entropy hesabı\n",
    "                ent_list.append(ent) #tüm kelimelerin entropy bilgisi\n",
    "            index=np.where(ent_list == np.max(ent_list))[0]\n",
    "            best_word=df[np.random.choice(index)]\n",
    "            print(\"best word:\",best_word)\n",
    "            return best_word   \n",
    "    def find_new(self,main_df,initial_best_word,secret_word): #yeni en iyi kelimeyi bulma\n",
    "        def pos_control(result,cont_word,word): \n",
    "            matches=0\n",
    "            check=[0,0,0,0,0]\n",
    "            used=[] #kullanılmış cont_word harflerini tutmak için\n",
    "            for i in range(5): #ihtimallerin içindeki değerler\n",
    "                if result[i] == 2 and cont_word[i]==word[i] and cont_word!=word:\n",
    "                    check[i]=1\n",
    "                    matches+=1\n",
    "                    used.append(i)\n",
    "                elif result[i] == 1 and cont_word!=word and cont_word[i]!=word[i]:#üstteki kontrol elif için yetersiz  \n",
    "                    cont=0\n",
    "                    for j in range(len(cont_word)):\n",
    "                        if j not in used and cont_word[j] == word[i]:\n",
    "                            cont=1\n",
    "                            used.append(j)   \n",
    "                    if cont==1:\n",
    "                        matches+=1        \n",
    "                elif result[i] == 0 and word[i] and cont_word!=word:\n",
    "                    cont=0\n",
    "                    for j in range(len(cont_word)):\n",
    "                        if j not in used and cont_word[j] == word[i]:\n",
    "                            cont=1\n",
    "                    if cont==0:\n",
    "                        matches+=1 \n",
    "            if matches==5:\n",
    "                return 1\n",
    "            else:\n",
    "                return 0\n",
    "        df=main_df\n",
    "        best_word=initial_best_word\n",
    "        found=0\n",
    "        guess_amount=1\n",
    "        while found==0:    \n",
    "            used=[]\n",
    "            self.result=[0,0,0,0,0]\n",
    "            for i in range(5):\n",
    "                if secret_word==best_word:\n",
    "                    found=1\n",
    "                    self.result=[2,2,2,2,2]\n",
    "                elif secret_word[i]==best_word[i]:  #Yazdığımız kelimenin gizli kelimeyle karşılaştırma sonucu\n",
    "                    self.result[i]=2\n",
    "                    used.append(i)\n",
    "                else:\n",
    "                    cont=0\n",
    "                    for j in range(len(secret_word)):\n",
    "                        if j not in used and secret_word[j] == best_word[i]:\n",
    "                            cont=1\n",
    "                            used.append(j)   \n",
    "                    if cont==1:\n",
    "                        self.result[i]=1\n",
    "            new_df=[]\n",
    "            self.results.append(self.result)\n",
    "            if found!=1:\n",
    "                for word in df:\n",
    "                    if(pos_control(self.result,word,best_word) == 1): #elde ettiğimiz sonuç bilgisine \n",
    "                        new_df.append(word)                           #(örnek: [0,1,2,1,1]) uyan kelimeler yeni datasetimize kaydediliyor\n",
    "                df=new_df\n",
    "                guess_amount+=1\n",
    "                if(len(df)==1): #yeni dataset 1 elemanlı ise zaten tek bir ihtimal olacağı için direk sonucu bulmuş sayıyoruz.\n",
    "                    found=1\n",
    "                    best_word=df[0]\n",
    "                else:\n",
    "                    dif_pos=[]      \n",
    "                    for i in range(3**5): # Oluşabilecek bütün durumların dizisi 0: Harf yok 1: Harf var ama yanlış yerde 2:Harf doğru yerde\n",
    "                        base_3_num = base_3(i)\n",
    "                        dif_pos.append(base_3_num) \n",
    "                    best_word=self.find_best_word(df,dif_pos) #yeni dataset için en fazla bilgiye sahip kelimeyi bulma\n",
    "                self.best_words.append(best_word)\n",
    "        return guess_amount\n",
    "    def calc(self,df):\n",
    "        def base_3(n): #gelen değeri 3'lü numara sistemine dönüştürme\n",
    "            bits = []\n",
    "            while n > 0: \n",
    "                bits.insert(0, n % 3)\n",
    "                n = n // 3\n",
    "            while len(bits) < 5: \n",
    "                bits.insert(0,0)\n",
    "            return bits\n",
    "                \n",
    "        dif_pos=[]      \n",
    "        for i in range(3**5): # Oluşabilecek bütün durumların dizisi 0: Harf yok 1: Harf var ama yanlış yerde 2:Harf doğru yerde\n",
    "            base_3_num = base_3(i)\n",
    "            dif_pos.append(base_3_num)        \n",
    "                            \n",
    "        initial_best_word=self.find_best_word(df,dif_pos)\n",
    "        return initial_best_word\n",
    "    def construct(self):\n",
    "        df=self.importdf()\n",
    "        df=df[\"word\"]\n",
    "        df=df.sample(400) \n",
    "        df.reset_index(drop=True, inplace=True) \n",
    "        df=df.to_numpy()\n",
    "        secret_words=df[np.random.randint(len(df),size=10)]\n",
    "        \n",
    "        self.g_secret_words=secret_words\n",
    "        avg_guess=[]\n",
    "        count=0\n",
    "        word=self.calc(df) #ilk en iyi kelime hesaplanması her seferinde aynı çıkacağı için loop dışında hesaplıyoruz.\n",
    "        for secret_word in secret_words:\n",
    "            self.results=[]\n",
    "            self.result=[0,0,0,0,0]\n",
    "            self.best_words=[]\n",
    "            self.g_secret_words=[]\n",
    "            boxes=VGroup(*[Rectangle(stroke_color= WHITE, fill_color=BLACK, width=0.6, height=0.6) for s in range(0,30)]) \n",
    "            #animasyon için kutular\n",
    "            boxes.arrange_in_grid(rows=6, buff=0.1).to_corner(UL)\n",
    "            text=Text(\"Secret word is: \"+secret_word).scale(0.5).to_corner(UR)\n",
    "            self.add(text)\n",
    "            self.add(boxes)\n",
    "            self.best_words.append(word)\n",
    "            guess_amount=self.find_new(df,word,secret_word)\n",
    "            avg_guess.append(guess_amount)\n",
    "            count+=1\n",
    "            self.results.append([2,2,2,2,2])\n",
    "            w_index=0\n",
    "            text=Text(\"Average words to solve is: \"+str(np.average(avg_guess))).scale(0.5).to_corner(DR)\n",
    "            self.add(text)\n",
    "            for word in self.best_words:\n",
    "                for i in range(len(word)): #kelimeleri yazma\n",
    "                    text=Text(word[i]).scale(0.5)\n",
    "                    text.move_to(boxes[i+w_index*5].get_center())\n",
    "                    self.play(Create(text),run_time=0.1)\n",
    "                    animations=[]\n",
    "                for i in range(len(self.results[0])): #sonuçlara göre kutunun rengini belirleme\n",
    "                    if(self.results[w_index][i]==2):\n",
    "                        boxes[i+w_index*5].set_fill(GREEN,opacity=0.8)\n",
    "                    elif(self.results[w_index][i]==1):\n",
    "                        boxes[i+w_index*5].set_fill(YELLOW,opacity=0.5)\n",
    "                self.wait(0.4)\n",
    "                w_index+=1\n",
    "\n",
    "            self.clear()\n",
    "            self.wait(0.1)\n",
    "\n",
    "                \n",
    "        return super().construct()"
   ]
  },
  {
   "cell_type": "code",
   "execution_count": 47,
   "metadata": {},
   "outputs": [
    {
     "name": "stdout",
     "output_type": "stream",
     "text": [
      "best word: tears\n"
     ]
    }
   ],
   "source": [
    "df=df[\"word\"]\n",
    "df=df.sample(1000) \n",
    "df.reset_index(drop=True, inplace=True)  # Reset the index of the DataFrame\n",
    "df=df.to_numpy()\n",
    "def base_3(n): \n",
    "    bits = []\n",
    "    while n > 0: \n",
    "        bits.insert(0, n % 3)\n",
    "        n = n // 3\n",
    "    while len(bits) < 5: # 15 sayısı için üst satır 1,2,0 değerini döndürüyor lakin ondan önceki değerler yok burada ekleniyor\n",
    "        bits.insert(0,0)\n",
    "    return bits\n",
    "        \n",
    "dif_pos=[]      \n",
    "for i in range(3**5): # Oluşabilecek bütün durumların dizisi 0: Harf yok 1: Harf var ama yanlış yerde 2:Harf doğru yerde\n",
    "    base_3_num = base_3(i)\n",
    "    dif_pos.append(base_3_num)\n",
    "    \n",
    "def pos_control(result,cont_word,word):\n",
    "    matches=0                           \n",
    "    check=[0,0,0,0,0]\n",
    "    used=[] #kullanılmış cont_word harflerini tutmak için\n",
    "    for i in range(5): #ihtimallerin içindeki değerler\n",
    "        if result[i] == 2 and cont_word[i]==word[i] and cont_word!=word:\n",
    "            check[i]=1\n",
    "            matches+=1\n",
    "            used.append(i)\n",
    "        elif result[i] == 1 and cont_word!=word and cont_word[i]!=word[i]:#üstteki kontrol elif için yetersiz  \n",
    "            cont=0\n",
    "            for j in range(len(cont_word)):\n",
    "                if j not in used and cont_word[j] == word[i]:\n",
    "                    cont=1\n",
    "                    used.append(j)   \n",
    "            if cont==1:\n",
    "                matches+=1        \n",
    "        elif result[i] == 0 and word[i] and cont_word!=word:\n",
    "            cont=0\n",
    "            for j in range(len(cont_word)):\n",
    "                if j not in used and cont_word[j] == word[i]:\n",
    "                    cont=1\n",
    "            if cont==0:\n",
    "                matches+=1 \n",
    "    if matches==5:\n",
    "        return 1\n",
    "    else:\n",
    "        return 0\n",
    "def find_best_word(df,dif_pos): #En iyi kelimeyi bulma\n",
    "    ent_list=[]                 \n",
    "    for cont_word in df:\n",
    "        match=np.zeros(243)\n",
    "        for word in df:\n",
    "            used=[]\n",
    "            if cont_word!=word:\n",
    "                result=[0,0,0,0,0]\n",
    "                for i in range(5):\n",
    "                    if cont_word[i]==word[i]:\n",
    "                        result[i]=2\n",
    "                        used.append(i)\n",
    "                    else:\n",
    "                        cont=0\n",
    "                        for j in range(len(cont_word)):\n",
    "                            if j not in used and cont_word[j] == word[i]:\n",
    "                                cont=1\n",
    "                                used.append(j)   \n",
    "                        if cont==1:\n",
    "                            result[i]=1\n",
    "                for pos_in in range(len(dif_pos)):  #elde ettiğimiz sonuç bilgisine \n",
    "                    if dif_pos[pos_in]==result:     #(örnek: [0,1,2,1,1]) uyan kelimeler yeni datasetimize kaydediliyor\n",
    "                        match[pos_in]+=1\n",
    "        ent=0\n",
    "        for i in range(len(match)):\n",
    "            if match[i]!=0:\n",
    "                size = 1000\n",
    "                ent+=-(match[i]/size)*np.log2(match[i]/size)\n",
    "        ent_list.append(ent)\n",
    "    index=np.where(ent_list == np.max(ent_list))[0]\n",
    "    best_word=df[np.random.choice(index)]\n",
    "    print(\"best word:\",best_word)\n",
    "    return best_word\n",
    "                    \n",
    "initial_best_word=find_best_word(df,dif_pos)\n"
   ]
  },
  {
   "cell_type": "code",
   "execution_count": 48,
   "metadata": {},
   "outputs": [],
   "source": [
    "main_df=df\n",
    "secret_words=main_df[np.random.randint(len(main_df),size=10)]"
   ]
  },
  {
   "cell_type": "code",
   "execution_count": 49,
   "metadata": {},
   "outputs": [
    {
     "name": "stdout",
     "output_type": "stream",
     "text": [
      "best word: lames\n",
      "best word: axles\n",
      "best word: deare\n",
      "best word: finca\n",
      "best word: lohan\n",
      "best word: metis\n",
      "best word: sents\n",
      "best word: diver\n",
      "best word: joker\n",
      "best word: scurs\n",
      "best word: deems\n",
      "best word: nelis\n",
      "best word: pepos\n",
      "best word: dovie\n",
      "best word: kyloe\n",
      "best word: deems\n",
      "best word: hexes\n",
      "best word: sexes\n",
      "best word: bayed\n",
      "best word: mazed\n",
      "best word: eaned\n",
      "best word: faded\n",
      "Average word to solve is: 3.7\n"
     ]
    }
   ],
   "source": [
    "\n",
    "guess_amounts=[]\n",
    "for secret_word in secret_words:\n",
    "    df=main_df\n",
    "    best_word=initial_best_word\n",
    "    found=0\n",
    "    guess_amount=1\n",
    "    while found==0 and secret_word!=best_word:    \n",
    "        used=[]\n",
    "        result=[0,0,0,0,0]\n",
    "        for i in range(5):\n",
    "            if secret_word==best_word: #Yazdığımız kelimenin gizli kelimeyle karşılaştırma sonucu\n",
    "                found=1\n",
    "            elif secret_word[i]==best_word[i]:\n",
    "                result[i]=2\n",
    "                used.append(i)\n",
    "            else:\n",
    "                cont=0\n",
    "                for j in range(len(secret_word)):\n",
    "                    if j not in used and secret_word[j] == best_word[i]:\n",
    "                        cont=1\n",
    "                        used.append(j)   \n",
    "                if cont==1:\n",
    "                    result[i]=1\n",
    "        new_df=[]\n",
    "        if found!=1:\n",
    "            for word in df:\n",
    "                if(pos_control(result,word,best_word) == 1):\n",
    "                    new_df.append(word)\n",
    "                    #best_word pos_controlden geçerken 0 çıktısını verdiği için \n",
    "            df=new_df\n",
    "            guess_amount+=1\n",
    "            if(len(df)==1):\n",
    "                found=1\n",
    "                best_word=df[0]\n",
    "            else:\n",
    "                best_word=find_best_word(df,dif_pos)\n",
    "        \n",
    "    guess_amounts.append(guess_amount)\n",
    "print(\"Average word to solve is:\",str(np.average(guess_amounts)))"
   ]
  }
 ],
 "metadata": {
  "kernelspec": {
   "display_name": "base",
   "language": "python",
   "name": "python3"
  },
  "language_info": {
   "codemirror_mode": {
    "name": "ipython",
    "version": 3
   },
   "file_extension": ".py",
   "mimetype": "text/x-python",
   "name": "python",
   "nbconvert_exporter": "python",
   "pygments_lexer": "ipython3",
   "version": "3.10.9"
  },
  "orig_nbformat": 4
 },
 "nbformat": 4,
 "nbformat_minor": 2
}
